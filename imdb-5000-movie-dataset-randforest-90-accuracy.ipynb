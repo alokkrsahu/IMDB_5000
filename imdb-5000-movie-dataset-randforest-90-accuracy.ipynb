{
 "cells": [
  {
   "cell_type": "code",
   "execution_count": 1,
   "metadata": {
    "_cell_guid": "b1076dfc-b9ad-4769-8c92-a6c4dae69d19",
    "_uuid": "8f2839f25d086af736a60e9eeb907d3b93b6e0e5",
    "execution": {
     "iopub.execute_input": "2020-09-15T19:00:38.623536Z",
     "iopub.status.busy": "2020-09-15T19:00:38.622777Z",
     "iopub.status.idle": "2020-09-15T19:00:38.632240Z",
     "shell.execute_reply": "2020-09-15T19:00:38.631062Z"
    },
    "papermill": {
     "duration": 0.027136,
     "end_time": "2020-09-15T19:00:38.632467",
     "exception": false,
     "start_time": "2020-09-15T19:00:38.605331",
     "status": "completed"
    },
    "tags": []
   },
   "outputs": [
    {
     "name": "stdout",
     "output_type": "stream",
     "text": [
      "/kaggle/input/imdb-5000-movie-dataset/movie_metadata.csv\n"
     ]
    }
   ],
   "source": [
    "# This Python 3 environment comes with many helpful analytics libraries installed\n",
    "# It is defined by the kaggle/python Docker image: https://github.com/kaggle/docker-python\n",
    "# For example, here's several helpful packages to load\n",
    "\n",
    "import numpy as np # linear algebra\n",
    "import pandas as pd # data processing, CSV file I/O (e.g. pd.read_csv)\n",
    "\n",
    "# Input data files are available in the read-only \"../input/\" directory\n",
    "# For example, running this (by clicking run or pressing Shift+Enter) will list all files under the input directory\n",
    "\n",
    "import os\n",
    "for dirname, _, filenames in os.walk('/kaggle/input'):\n",
    "    for filename in filenames:\n",
    "        print(os.path.join(dirname, filename))\n",
    "\n",
    "# You can write up to 5GB to the current directory (/kaggle/working/) that gets preserved as output when you create a version using \"Save & Run All\" \n",
    "# You can also write temporary files to /kaggle/temp/, but they won't be saved outside of the current session"
   ]
  },
  {
   "cell_type": "code",
   "execution_count": 2,
   "metadata": {
    "_cell_guid": "79c7e3d0-c299-4dcb-8224-4455121ee9b0",
    "_uuid": "d629ff2d2480ee46fbb7e2d37f6b5fab8052498a",
    "execution": {
     "iopub.execute_input": "2020-09-15T19:00:38.657321Z",
     "iopub.status.busy": "2020-09-15T19:00:38.656641Z",
     "iopub.status.idle": "2020-09-15T19:00:40.166241Z",
     "shell.execute_reply": "2020-09-15T19:00:40.165566Z"
    },
    "papermill": {
     "duration": 1.522448,
     "end_time": "2020-09-15T19:00:40.166356",
     "exception": false,
     "start_time": "2020-09-15T19:00:38.643908",
     "status": "completed"
    },
    "tags": []
   },
   "outputs": [],
   "source": [
    "# -*- coding: utf-8 -*-\n",
    "\"\"\"\n",
    "Created on Fri Sep 11 13:35:38 2020\n",
    "\n",
    "@author: Alok Kumar Sahu\n",
    "@email : alok.kr.sahu@outlook.com\n",
    "@Linkedin : www.linkedin.com/in/alokkrsahu\n",
    "\n",
    "\"\"\"\n",
    "\n",
    "import pandas as pd\n",
    "from pandas.plotting import scatter_matrix\n",
    "import numpy as np\n",
    "import matplotlib.pyplot as plt \n",
    "import seaborn as sns\n",
    "from sklearn.linear_model import LinearRegression\n",
    "from sklearn.neighbors import KNeighborsClassifier\n",
    "from sklearn import svm\n",
    "from sklearn.tree import DecisionTreeClassifier\n",
    "from sklearn.linear_model import LinearRegression\n",
    "from sklearn.model_selection import train_test_split \n",
    "from sklearn import metrics\n",
    "from sklearn.metrics import mean_squared_error,max_error,mean_absolute_error,r2_score\n",
    "from sklearn.ensemble import RandomForestRegressor"
   ]
  },
  {
   "cell_type": "code",
   "execution_count": 3,
   "metadata": {
    "execution": {
     "iopub.execute_input": "2020-09-15T19:00:40.194934Z",
     "iopub.status.busy": "2020-09-15T19:00:40.194212Z",
     "iopub.status.idle": "2020-09-15T19:00:40.266697Z",
     "shell.execute_reply": "2020-09-15T19:00:40.266073Z"
    },
    "papermill": {
     "duration": 0.090249,
     "end_time": "2020-09-15T19:00:40.266829",
     "exception": false,
     "start_time": "2020-09-15T19:00:40.176580",
     "status": "completed"
    },
    "tags": []
   },
   "outputs": [],
   "source": [
    "\n",
    "path = os.path.join(\"/kaggle/input/imdb-5000-movie-dataset/movie_metadata.csv\")\n",
    "imdb = pd.read_csv(path)"
   ]
  },
  {
   "cell_type": "code",
   "execution_count": 4,
   "metadata": {
    "execution": {
     "iopub.execute_input": "2020-09-15T19:00:40.294981Z",
     "iopub.status.busy": "2020-09-15T19:00:40.294177Z",
     "iopub.status.idle": "2020-09-15T19:00:40.335597Z",
     "shell.execute_reply": "2020-09-15T19:00:40.334976Z"
    },
    "papermill": {
     "duration": 0.058738,
     "end_time": "2020-09-15T19:00:40.335848",
     "exception": false,
     "start_time": "2020-09-15T19:00:40.277110",
     "status": "completed"
    },
    "tags": []
   },
   "outputs": [
    {
     "name": "stdout",
     "output_type": "stream",
     "text": [
      "Rows     : 5043\n",
      "Columns  : 28\n",
      "\n",
      "Features :\n",
      "     : ['color', 'director_name', 'num_critic_for_reviews', 'duration', 'director_facebook_likes', 'actor_3_facebook_likes', 'actor_2_name', 'actor_1_facebook_likes', 'gross', 'genres', 'actor_1_name', 'movie_title', 'num_voted_users', 'cast_total_facebook_likes', 'actor_3_name', 'facenumber_in_poster', 'plot_keywords', 'movie_imdb_link', 'num_user_for_reviews', 'language', 'country', 'content_rating', 'budget', 'title_year', 'actor_2_facebook_likes', 'imdb_score', 'aspect_ratio', 'movie_facebook_likes']\n",
      "\n",
      "Missing values    : 2698\n",
      "\n",
      "Unique values : \n",
      " color                           2\n",
      "director_name                2398\n",
      "num_critic_for_reviews        528\n",
      "duration                      191\n",
      "director_facebook_likes       435\n",
      "actor_3_facebook_likes        906\n",
      "actor_2_name                 3032\n",
      "actor_1_facebook_likes        878\n",
      "gross                        4035\n",
      "genres                        914\n",
      "actor_1_name                 2097\n",
      "movie_title                  4917\n",
      "num_voted_users              4826\n",
      "cast_total_facebook_likes    3978\n",
      "actor_3_name                 3521\n",
      "facenumber_in_poster           19\n",
      "plot_keywords                4760\n",
      "movie_imdb_link              4919\n",
      "num_user_for_reviews          954\n",
      "language                       47\n",
      "country                        65\n",
      "content_rating                 18\n",
      "budget                        439\n",
      "title_year                     91\n",
      "actor_2_facebook_likes        917\n",
      "imdb_score                     78\n",
      "aspect_ratio                   22\n",
      "movie_facebook_likes          876\n",
      "dtype: int64\n"
     ]
    }
   ],
   "source": [
    "print('Rows     :',imdb.shape[0])\n",
    "print('Columns  :',imdb.shape[1])\n",
    "print('\\nFeatures :\\n     :',imdb.columns.tolist())\n",
    "print('\\nMissing values    :',imdb.isnull().values.sum())\n",
    "print('\\nUnique values : \\n',imdb.nunique())"
   ]
  },
  {
   "cell_type": "code",
   "execution_count": 5,
   "metadata": {
    "execution": {
     "iopub.execute_input": "2020-09-15T19:00:40.365964Z",
     "iopub.status.busy": "2020-09-15T19:00:40.365221Z",
     "iopub.status.idle": "2020-09-15T19:00:40.647220Z",
     "shell.execute_reply": "2020-09-15T19:00:40.646663Z"
    },
    "papermill": {
     "duration": 0.300682,
     "end_time": "2020-09-15T19:00:40.647343",
     "exception": false,
     "start_time": "2020-09-15T19:00:40.346661",
     "status": "completed"
    },
    "tags": []
   },
   "outputs": [
    {
     "data": {
      "text/plain": [
       "[None,\n",
       " None,\n",
       " None,\n",
       " None,\n",
       " None,\n",
       " None,\n",
       " None,\n",
       " None,\n",
       " None,\n",
       " None,\n",
       " None,\n",
       " None,\n",
       " None,\n",
       " None,\n",
       " None,\n",
       " None,\n",
       " None,\n",
       " None,\n",
       " None,\n",
       " None,\n",
       " None,\n",
       " None,\n",
       " None,\n",
       " None,\n",
       " None,\n",
       " None,\n",
       " None,\n",
       " None,\n",
       " None,\n",
       " None,\n",
       " None,\n",
       " None]"
      ]
     },
     "execution_count": 5,
     "metadata": {},
     "output_type": "execute_result"
    },
    {
     "data": {
      "image/png": "[encoded data removed]",
      "text/plain": [
       "<Figure size 432x288 with 1 Axes>"
      ]
     },
     "metadata": {
      "needs_background": "light"
     },
     "output_type": "display_data"
    }
   ],
   "source": [
    "corr = imdb.corr()\n",
    "fig, ax = plt.subplots()\n",
    "# create heatmap\n",
    "im = ax.imshow(corr.values)\n",
    "\n",
    "# set labels\n",
    "ax.set_xticks(np.arange(len(corr.columns)))\n",
    "ax.set_yticks(np.arange(len(corr.columns)))\n",
    "ax.set_xticklabels(corr.columns)\n",
    "ax.set_yticklabels(corr.columns)\n",
    "\n",
    "# Rotate the tick labels and set their alignment.\n",
    "plt.setp(ax.get_xticklabels(), rotation=45, ha=\"right\",\n",
    "         rotation_mode=\"anchor\")"
   ]
  },
  {
   "cell_type": "code",
   "execution_count": 6,
   "metadata": {
    "execution": {
     "iopub.execute_input": "2020-09-15T19:00:40.687517Z",
     "iopub.status.busy": "2020-09-15T19:00:40.682359Z",
     "iopub.status.idle": "2020-09-15T19:00:40.690976Z",
     "shell.execute_reply": "2020-09-15T19:00:40.690298Z"
    },
    "papermill": {
     "duration": 0.030834,
     "end_time": "2020-09-15T19:00:40.691098",
     "exception": false,
     "start_time": "2020-09-15T19:00:40.660264",
     "status": "completed"
    },
    "tags": []
   },
   "outputs": [],
   "source": [
    "imdb = imdb.drop(['color','director_name','actor_2_name','genres','language','country','actor_1_name','movie_title','actor_3_name','plot_keywords','movie_imdb_link','content_rating','aspect_ratio'], axis = 1)"
   ]
  },
  {
   "cell_type": "code",
   "execution_count": 7,
   "metadata": {
    "execution": {
     "iopub.execute_input": "2020-09-15T19:00:40.734074Z",
     "iopub.status.busy": "2020-09-15T19:00:40.733354Z",
     "iopub.status.idle": "2020-09-15T19:00:40.741821Z",
     "shell.execute_reply": "2020-09-15T19:00:40.741073Z"
    },
    "papermill": {
     "duration": 0.038006,
     "end_time": "2020-09-15T19:00:40.741952",
     "exception": false,
     "start_time": "2020-09-15T19:00:40.703946",
     "status": "completed"
    },
    "tags": []
   },
   "outputs": [],
   "source": [
    "# Filling missing values\n",
    "imdb['duration'].fillna(imdb['duration'].mean(), inplace=True)\n",
    "imdb['num_critic_for_reviews'].fillna(imdb['num_critic_for_reviews'].mean(), inplace=True)\n",
    "imdb['director_facebook_likes'].fillna(imdb['director_facebook_likes'].mean(), inplace=True)\n",
    "imdb['actor_3_facebook_likes'].fillna(imdb['actor_3_facebook_likes'].mean(), inplace=True)\n",
    "imdb['actor_1_facebook_likes'].fillna(imdb['actor_1_facebook_likes'].mean(), inplace=True)\n",
    "imdb['gross'].fillna(imdb['gross'].mean(), inplace=True)\n",
    "imdb['num_voted_users'].fillna(imdb['num_voted_users'].mean(), inplace=True)\n",
    "imdb['cast_total_facebook_likes'].fillna(imdb['cast_total_facebook_likes'].mean(), inplace=True)\n",
    "imdb['facenumber_in_poster'].fillna(imdb['facenumber_in_poster'].mean(), inplace=True)\n",
    "imdb['num_user_for_reviews'].fillna(imdb['num_user_for_reviews'].mean(), inplace=True)\n",
    "imdb['budget'].fillna(imdb['budget'].mean(), inplace=True)\n",
    "imdb['title_year'].fillna(imdb['title_year'].mean(), inplace=True)\n",
    "imdb['actor_2_facebook_likes'].fillna(imdb['actor_2_facebook_likes'].mean(), inplace=True)\n",
    "imdb['imdb_score'].fillna(imdb['imdb_score'].mean(), inplace=True)\n",
    "imdb['movie_facebook_likes'].fillna(imdb['movie_facebook_likes'].mean(), inplace=True)"
   ]
  },
  {
   "cell_type": "code",
   "execution_count": 8,
   "metadata": {
    "execution": {
     "iopub.execute_input": "2020-09-15T19:00:40.775415Z",
     "iopub.status.busy": "2020-09-15T19:00:40.774731Z",
     "iopub.status.idle": "2020-09-15T19:00:40.781588Z",
     "shell.execute_reply": "2020-09-15T19:00:40.782108Z"
    },
    "papermill": {
     "duration": 0.027166,
     "end_time": "2020-09-15T19:00:40.782263",
     "exception": false,
     "start_time": "2020-09-15T19:00:40.755097",
     "status": "completed"
    },
    "tags": []
   },
   "outputs": [],
   "source": [
    "train,test = train_test_split(imdb,test_size=0.25)\n",
    "y_train = train['imdb_score']\n",
    "y_test = test['imdb_score']\n",
    "train = train.drop(['imdb_score'], axis = 1)\n",
    "test = test.drop(['imdb_score'], axis = 1)"
   ]
  },
  {
   "cell_type": "code",
   "execution_count": 9,
   "metadata": {
    "execution": {
     "iopub.execute_input": "2020-09-15T19:00:40.817729Z",
     "iopub.status.busy": "2020-09-15T19:00:40.817021Z",
     "iopub.status.idle": "2020-09-15T19:01:17.003043Z",
     "shell.execute_reply": "2020-09-15T19:01:17.003704Z"
    },
    "papermill": {
     "duration": 36.207017,
     "end_time": "2020-09-15T19:01:17.003878",
     "exception": false,
     "start_time": "2020-09-15T19:00:40.796861",
     "status": "completed"
    },
    "tags": []
   },
   "outputs": [
    {
     "data": {
      "text/plain": [
       "RandomForestRegressor(n_estimators=1000, random_state=15)"
      ]
     },
     "execution_count": 9,
     "metadata": {},
     "output_type": "execute_result"
    }
   ],
   "source": [
    "rf = RandomForestRegressor(n_estimators = 1000, random_state = 15)\n",
    "rf.fit(train,y_train)"
   ]
  },
  {
   "cell_type": "code",
   "execution_count": 10,
   "metadata": {
    "execution": {
     "iopub.execute_input": "2020-09-15T19:01:17.041153Z",
     "iopub.status.busy": "2020-09-15T19:01:17.040438Z",
     "iopub.status.idle": "2020-09-15T19:01:17.475060Z",
     "shell.execute_reply": "2020-09-15T19:01:17.474464Z"
    },
    "papermill": {
     "duration": 0.457434,
     "end_time": "2020-09-15T19:01:17.475175",
     "exception": false,
     "start_time": "2020-09-15T19:01:17.017741",
     "status": "completed"
    },
    "tags": []
   },
   "outputs": [],
   "source": [
    "predictions = rf.predict(test)"
   ]
  },
  {
   "cell_type": "code",
   "execution_count": 11,
   "metadata": {
    "execution": {
     "iopub.execute_input": "2020-09-15T19:01:17.507233Z",
     "iopub.status.busy": "2020-09-15T19:01:17.506194Z",
     "iopub.status.idle": "2020-09-15T19:01:17.538949Z",
     "shell.execute_reply": "2020-09-15T19:01:17.539533Z"
    },
    "papermill": {
     "duration": 0.050288,
     "end_time": "2020-09-15T19:01:17.539697",
     "exception": false,
     "start_time": "2020-09-15T19:01:17.489409",
     "status": "completed"
    },
    "tags": []
   },
   "outputs": [
    {
     "name": "stdout",
     "output_type": "stream",
     "text": [
      "Mean Absolute Error: 0.57 degrees.\n"
     ]
    }
   ],
   "source": [
    "errors = abs(predictions - y_test)\n",
    "print('Mean Absolute Error:', round(np.mean(errors), 2), 'degrees.')"
   ]
  },
  {
   "cell_type": "code",
   "execution_count": 12,
   "metadata": {
    "execution": {
     "iopub.execute_input": "2020-09-15T19:01:17.571849Z",
     "iopub.status.busy": "2020-09-15T19:01:17.571090Z",
     "iopub.status.idle": "2020-09-15T19:01:17.579867Z",
     "shell.execute_reply": "2020-09-15T19:01:17.579221Z"
    },
    "papermill": {
     "duration": 0.025951,
     "end_time": "2020-09-15T19:01:17.579996",
     "exception": false,
     "start_time": "2020-09-15T19:01:17.554045",
     "status": "completed"
    },
    "tags": []
   },
   "outputs": [
    {
     "name": "stdout",
     "output_type": "stream",
     "text": [
      "Accuracy: 89.67 %.\n"
     ]
    }
   ],
   "source": [
    "mape = 100 * (errors / y_test)\n",
    "accuracy = 100 - np.mean(mape)\n",
    "print('Accuracy:', round(accuracy, 2), '%.')"
   ]
  },
  {
   "cell_type": "code",
   "execution_count": null,
   "metadata": {
    "papermill": {
     "duration": 0.015115,
     "end_time": "2020-09-15T19:01:17.610573",
     "exception": false,
     "start_time": "2020-09-15T19:01:17.595458",
     "status": "completed"
    },
    "tags": []
   },
   "outputs": [],
   "source": []
  }
 ],
 "metadata": {
  "kernelspec": {
   "display_name": "Python 3",
   "language": "python",
   "name": "python3"
  },
  "language_info": {
   "codemirror_mode": {
    "name": "ipython",
    "version": 3
   },
   "file_extension": ".py",
   "mimetype": "text/x-python",
   "name": "python",
   "nbconvert_exporter": "python",
   "pygments_lexer": "ipython3",
   "version": "3.7.6"
  },
  "papermill": {
   "duration": 45.02916,
   "end_time": "2020-09-15T19:01:18.730861",
   "environment_variables": {},
   "exception": null,
   "input_path": "__notebook__.ipynb",
   "output_path": "__notebook__.ipynb",
   "parameters": {},
   "start_time": "2020-09-15T19:00:33.701701",
   "version": "2.1.0"
  }
 },
 "nbformat": 4,
 "nbformat_minor": 4
}
